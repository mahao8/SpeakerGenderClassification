{
 "cells": [
  {
   "cell_type": "code",
   "execution_count": 1,
   "metadata": {},
   "outputs": [
    {
     "name": "stderr",
     "output_type": "stream",
     "text": [
      "Using TensorFlow backend.\n"
     ]
    }
   ],
   "source": [
    "import os\n",
    "import sys\n",
    "import struct\n",
    "from inspect import getmembers, isfunction\n",
    "from typing import Iterable, Tuple, Any, Dict\n",
    "\n",
    "import soundfile\n",
    "import config as cfg\n",
    "\n",
    "import librosa\n",
    "import numpy as np\n",
    "from sklearn.metrics import accuracy_score\n",
    "from keras.utils import np_utils\n",
    "from Settings import *\n",
    "import pandas as pd\n",
    "from auditok import ADSFactory, AudioEnergyValidator, StreamTokenizer, player_for, dataset"
   ]
  },
  {
   "cell_type": "code",
   "execution_count": 2,
   "metadata": {},
   "outputs": [],
   "source": [
    "def convertPCM(destPath, srcPath):\n",
    "    #print(srcPath)\n",
    "    outPath = destPath\n",
    "    fout = open(outPath,'wb') #用二进制的写入模式\n",
    "    #fout.write(struct.pack('4s','\\x66\\x6D\\x74\\x20'))\n",
    "    #写入一个长度为4的串，这个串的二进制内容为 66 6D 74 20\n",
    "    #Riff_flag,afd,fad,afdd, = struct.unpack('4c',fin.read(4))\n",
    "    #读入四个字节，每一个都解析成一个字母\n",
    "    #open(sys.argv[4],'wb').write(struct.pack('4s','fmt '))\n",
    "    #将字符串解析成二进制后再写入\n",
    "    #open(sys.argv[4],'wb').write('\\x3C\\x9C\\x00\\x00\\x57')\n",
    "    #直接写入二进制内容：3C 9C 00 00 57\n",
    "    #fout.write(struct.pack('i',6000)) #写入6000的二进制形式\n",
    "    #check whether inFile has head-Info\n",
    "    inPath= srcPath\n",
    "    fin = open(inPath,'rb')\n",
    "    Riff_flag, = struct.unpack('4s',fin.read(4))\n",
    "    if Riff_flag == 'RIFF':\n",
    "        #print(\"%s have head\" % inPath)\n",
    "        fin.close()\n",
    "        #sys.exit(0)\n",
    "    else:\n",
    "        #print(\"%s no head\" % inPath)\n",
    "        fin.close()\n",
    "        #采样率\n",
    "        sampleRate = int(16000)\n",
    "        #bit位\n",
    "        bits = int(16)\n",
    "        fin = open(inPath,'rb')\n",
    "        startPos = fin.tell()\n",
    "        fin.seek(0,os.SEEK_END)\n",
    "        endPos = fin.tell()\n",
    "        sampleNum = int(endPos - startPos)\n",
    "        #print(sampleNum)\n",
    "        #headInfo = geneHeadInfo(sampleRate,bits,sampleNum)\n",
    "        #fout.write(headInfo)\n",
    "        fout.write('\\x52\\x49\\x46\\x46'.encode())\n",
    "        fout.write(struct.pack('i',sampleNum + 36))\n",
    "        #fout.write(fileLength)\n",
    "        fout.write('\\x57\\x41\\x56\\x45\\x66\\x6D\\x74\\x20\\x10\\x00\\x00\\x00\\x01\\x00\\x01\\x00'.encode())\n",
    "        fout.write(struct.pack('i',sampleRate))\n",
    "        fout.write(struct.pack('i',int(sampleRate * bits / 8)))\n",
    "        fout.write('\\x02\\x00'.encode())\n",
    "        fout.write(struct.pack('H',bits))\n",
    "        fout.write('\\x64\\x61\\x74\\x61'.encode())\n",
    "        fout.write(struct.pack('i',sampleNum))\n",
    "        fin.seek(os.SEEK_SET)\n",
    "        fout.write(fin.read())\n",
    "        fin.close()\n",
    "        fout.close()\n",
    "        # We set the `record` argument to True so that we can rewind the source\n",
    "        asource = ADSFactory.ads(filename=destPath, record=True)\n",
    "        validator = AudioEnergyValidator(sample_width=asource.get_sample_width(), energy_threshold=50)\n",
    "        # Default analysis window is 10 ms (float(asource.get_block_size()) / asource.get_sampling_rate())\n",
    "        # min_length=20 : minimum length of a valid audio activity is 20 * 10 == 200 ms\n",
    "        # max_length=400 :  maximum length of a valid audio activity is 400 * 10 == 4000 ms == 4 seconds\n",
    "        # max_continuous_silence=30 : maximum length of a tolerated  silence within a valid audio activity is 30 * 30 == 300 ms\n",
    "        tokenizer = StreamTokenizer(validator=validator, min_length=50, max_length=400, max_continuous_silence=1)\n",
    "        asource.open()\n",
    "        tokens = tokenizer.tokenize(asource)\n",
    "        # Play detected regions back\n",
    "        #player = player_for(asource)\n",
    "        #print(\"\\n ** playing detected regions...\\n\")\n",
    "        data = b''\n",
    "        \n",
    "        for i,t in enumerate(tokens):\n",
    "            #print(\"Token [{0}] starts at {1} and ends at {2}\".format(i+1, t[1], t[2]))\n",
    "            data = data + b''.join(t[0])\n",
    "        #player.play(data)\n",
    "\n",
    "        sampleNum = len(data)\n",
    "        if sampleNum>1000:\n",
    "            #采样率\n",
    "            sampleRate = int(16000)\n",
    "            #bit位\n",
    "            bits = int(16)\n",
    "            fout = open(srcPath+\".wav\",'wb')\n",
    "            fout.write('\\x52\\x49\\x46\\x46'.encode())\n",
    "            fout.write(struct.pack('i',sampleNum + 36))\n",
    "            #fout.write(fileLength)\n",
    "            fout.write('\\x57\\x41\\x56\\x45\\x66\\x6D\\x74\\x20\\x10\\x00\\x00\\x00\\x01\\x00\\x01\\x00'.encode())\n",
    "            fout.write(struct.pack('i',sampleRate))\n",
    "            fout.write(struct.pack('i',int(sampleRate * bits / 8)))\n",
    "            fout.write('\\x02\\x00'.encode())\n",
    "            fout.write(struct.pack('H',bits))\n",
    "            fout.write('\\x64\\x61\\x74\\x61'.encode())\n",
    "            fout.write(struct.pack('i',sampleNum))\n",
    "            fout.write(data)\n",
    "            fout.close()\n",
    "            #assert len(tokens) == 8\n",
    "            asource.close()"
   ]
  },
  {
   "cell_type": "code",
   "execution_count": 3,
   "metadata": {},
   "outputs": [],
   "source": [
    "def read_audio(path, target_fs=None):\n",
    "    if path.upper().endswith(\".PCM\"):\n",
    "        convertPCM(\"tt.wav\", path)"
   ]
  },
  {
   "cell_type": "code",
   "execution_count": 4,
   "metadata": {},
   "outputs": [],
   "source": [
    "def audios_to_features(files: Iterable[str]) -> np.ndarray:\n",
    "    \"\"\"\n",
    "    Extract audio features from a collection of files.\n",
    "    :param files: The files\n",
    "    :return: An array of array of features\n",
    "    \"\"\"\n",
    "    return np.asarray([read_audio(file) for file in files])"
   ]
  },
  {
   "cell_type": "code",
   "execution_count": 5,
   "metadata": {},
   "outputs": [],
   "source": [
    "def f(path):\n",
    "    if path.endswith(AUDIO_EXT_PCM) == False:\n",
    "        return False\n",
    "    return True\n",
    "\n",
    "def list_files(dir_name: str, ext=AUDIO_EXT) -> np.ndarray:\n",
    "    \"\"\"\n",
    "    List the files in a directory recursively for a given extension.\n",
    "    :param dir_name: The directory to search\n",
    "    :param ext: The extension of the files to search for\n",
    "    :return: The array of filenames\n",
    "    \"\"\"\n",
    "    return np.asarray(list(map(lambda path: path.replace(\"\\\\\", PATH_SEPARATOR),\n",
    "                               filter(lambda path: f(path),\n",
    "                                      [os.path.join(dp, f) for dp, dn, fn in os.walk(dir_name) for f in fn]))))"
   ]
  },
  {
   "cell_type": "code",
   "execution_count": 19,
   "metadata": {},
   "outputs": [
    {
     "data": {
      "text/plain": [
       "array([None, None, None, None, None, None, None, None, None, None, None,\n",
       "       None, None, None, None, None, None, None, None, None, None, None,\n",
       "       None, None, None, None, None, None, None, None, None, None, None,\n",
       "       None, None, None, None, None, None, None, None, None, None, None,\n",
       "       None, None, None, None, None], dtype=object)"
      ]
     },
     "execution_count": 19,
     "metadata": {},
     "output_type": "execute_result"
    }
   ],
   "source": [
    "audios_to_features(list_files(\"test\"))"
   ]
  },
  {
   "cell_type": "code",
   "execution_count": 18,
   "metadata": {},
   "outputs": [
    {
     "data": {
      "text/plain": [
       "array([None, None, None, None, None, None], dtype=object)"
      ]
     },
     "execution_count": 18,
     "metadata": {},
     "output_type": "execute_result"
    }
   ],
   "source": [
    "audios_to_features(list_files(\"data/Train/Train/FAPB0\"))"
   ]
  },
  {
   "cell_type": "code",
   "execution_count": 6,
   "metadata": {},
   "outputs": [
    {
     "data": {
      "text/plain": [
       "array([None, None, None, ..., None, None, None], dtype=object)"
      ]
     },
     "execution_count": 6,
     "metadata": {},
     "output_type": "execute_result"
    }
   ],
   "source": [
    "audios_to_features(list_files(\"data/Train/Train\"))"
   ]
  },
  {
   "cell_type": "code",
   "execution_count": null,
   "metadata": {},
   "outputs": [],
   "source": [
    "def convertPCM(destPath, srcPath):\n",
    "    #print(srcPath)\n",
    "    outPath = destPath\n",
    "    fout = open(outPath,'wb') #用二进制的写入模式\n",
    "    #fout.write(struct.pack('4s','\\x66\\x6D\\x74\\x20'))\n",
    "    #写入一个长度为4的串，这个串的二进制内容为 66 6D 74 20\n",
    "    #Riff_flag,afd,fad,afdd, = struct.unpack('4c',fin.read(4))\n",
    "    #读入四个字节，每一个都解析成一个字母\n",
    "    #open(sys.argv[4],'wb').write(struct.pack('4s','fmt '))\n",
    "    #将字符串解析成二进制后再写入\n",
    "    #open(sys.argv[4],'wb').write('\\x3C\\x9C\\x00\\x00\\x57')\n",
    "    #直接写入二进制内容：3C 9C 00 00 57\n",
    "    #fout.write(struct.pack('i',6000)) #写入6000的二进制形式\n",
    "    #check whether inFile has head-Info\n",
    "    inPath= srcPath\n",
    "    fin = open(inPath,'rb')\n",
    "    Riff_flag, = struct.unpack('4s',fin.read(4))\n",
    "    if Riff_flag == 'RIFF':\n",
    "        #print(\"%s have head\" % inPath)\n",
    "        fin.close()\n",
    "        #sys.exit(0)\n",
    "    else:\n",
    "        #print(\"%s no head\" % inPath)\n",
    "        fin.close()\n",
    "        #采样率\n",
    "        sampleRate = int(16000)\n",
    "        #bit位\n",
    "        bits = int(16)\n",
    "        fin = open(inPath,'rb')\n",
    "        startPos = fin.tell()\n",
    "        fin.seek(0,os.SEEK_END)\n",
    "        endPos = fin.tell()\n",
    "        sampleNum = int(endPos - startPos)\n",
    "        #print(sampleNum)\n",
    "        #headInfo = geneHeadInfo(sampleRate,bits,sampleNum)\n",
    "        #fout.write(headInfo)\n",
    "        fout.write('\\x52\\x49\\x46\\x46'.encode())\n",
    "        fout.write(struct.pack('i',sampleNum + 36))\n",
    "        #fout.write(fileLength)\n",
    "        fout.write('\\x57\\x41\\x56\\x45\\x66\\x6D\\x74\\x20\\x10\\x00\\x00\\x00\\x01\\x00\\x01\\x00'.encode())\n",
    "        fout.write(struct.pack('i',sampleRate))\n",
    "        fout.write(struct.pack('i',int(sampleRate * bits / 8)))\n",
    "        fout.write('\\x02\\x00'.encode())\n",
    "        fout.write(struct.pack('H',bits))\n",
    "        fout.write('\\x64\\x61\\x74\\x61'.encode())\n",
    "        fout.write(struct.pack('i',sampleNum))\n",
    "        fin.seek(os.SEEK_SET)\n",
    "        fout.write(fin.read())\n",
    "        fin.close()\n",
    "        fout.close()\n",
    "\n",
    "def read_audio(path, target_fs=None):\n",
    "    if path.upper().endswith(\".PCM\"):\n",
    "        convertPCM(\"tt.wav\", path)\n",
    "        # We set the `record` argument to True so that we can rewind the source\n",
    "        asource = ADSFactory.ads(filename=\"tt.wav\", record=True)\n",
    "        validator = AudioEnergyValidator(sample_width=asource.get_sample_width(), energy_threshold=65)\n",
    "        # Default analysis window is 10 ms (float(asource.get_block_size()) / asource.get_sampling_rate())\n",
    "        # min_length=20 : minimum length of a valid audio activity is 20 * 10 == 200 ms\n",
    "        # max_length=400 :  maximum length of a valid audio activity is 400 * 10 == 4000 ms == 4 seconds\n",
    "        # max_continuous_silence=30 : maximum length of a tolerated  silence within a valid audio activity is 30 * 30 == 300 ms\n",
    "        tokenizer = StreamTokenizer(validator=validator, min_length=50, max_length=400, max_continuous_silence=1)\n",
    "        asource.open()\n",
    "        tokens = tokenizer.tokenize(asource)\n",
    "        # Play detected regions back\n",
    "        #player = player_for(asource)\n",
    "        #print(\"\\n ** playing detected regions...\\n\")\n",
    "        data = b''\n",
    "        for i,t in enumerate(tokens):\n",
    "            #print(\"Token [{0}] starts at {1} and ends at {2}\".format(i+1, t[1], t[2]))\n",
    "            data = data + b''.join(t[0])\n",
    "        #player.play(data)\n",
    "        #采样率\n",
    "        sampleRate = int(16000)\n",
    "        #bit位\n",
    "        bits = int(16)\n",
    "        sampleNum = len(data)\n",
    "        fout = open(TEMP_WAV,'wb')\n",
    "        fout.write('\\x52\\x49\\x46\\x46'.encode())\n",
    "        fout.write(struct.pack('i',sampleNum + 36))\n",
    "        #fout.write(fileLength)\n",
    "        fout.write('\\x57\\x41\\x56\\x45\\x66\\x6D\\x74\\x20\\x10\\x00\\x00\\x00\\x01\\x00\\x01\\x00'.encode())\n",
    "        fout.write(struct.pack('i',sampleRate))\n",
    "        fout.write(struct.pack('i',int(sampleRate * bits / 8)))\n",
    "        fout.write('\\x02\\x00'.encode())\n",
    "        fout.write(struct.pack('H',bits))\n",
    "        fout.write('\\x64\\x61\\x74\\x61'.encode())\n",
    "        fout.write(struct.pack('i',sampleNum))\n",
    "        fout.write(data)\n",
    "        fout.close()\n",
    "        #assert len(tokens) == 8\n",
    "        asource.close()\n",
    "        #player.stop()\n",
    "        path = TEMP_WAV\n",
    "    (audio, fs) = soundfile.read(path)\n",
    "    if audio.ndim > 1:\n",
    "        audio = np.mean(audio, axis=1)\n",
    "    if target_fs is not None and fs != target_fs:\n",
    "        audio = librosa.resample(audio, orig_sr=fs, target_sr=target_fs)\n",
    "        fs = target_fs\n",
    "    return audio, fs"
   ]
  }
 ],
 "metadata": {
  "kernelspec": {
   "display_name": "Python 3",
   "language": "python",
   "name": "python3"
  },
  "language_info": {
   "codemirror_mode": {
    "name": "ipython",
    "version": 3
   },
   "file_extension": ".py",
   "mimetype": "text/x-python",
   "name": "python",
   "nbconvert_exporter": "python",
   "pygments_lexer": "ipython3",
   "version": "3.6.5"
  }
 },
 "nbformat": 4,
 "nbformat_minor": 2
}
